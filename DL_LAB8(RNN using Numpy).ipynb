{
 "cells": [
  {
   "cell_type": "code",
   "execution_count": 1,
   "id": "6d598ab5-e8c4-4b10-adea-0771a36137c1",
   "metadata": {},
   "outputs": [],
   "source": [
    "import numpy as np"
   ]
  },
  {
   "cell_type": "code",
   "execution_count": 2,
   "id": "9a715ad1-13e6-4729-981c-7d58fbd2186d",
   "metadata": {},
   "outputs": [],
   "source": [
    "def sigmoid(x):\n",
    "    return 1/ (1+np.exp(-x))\n",
    "\n",
    "def sigmoid_derivative(x):\n",
    "    return x*(x-1)"
   ]
  },
  {
   "cell_type": "code",
   "execution_count": 5,
   "id": "26fb0eef-fdb5-4f2d-b2c4-0d7f5bf56ddf",
   "metadata": {},
   "outputs": [],
   "source": [
    "Wxh=np.random.randn(10,5) # input to hidden wt\n",
    "Whh=np.random.randn(10,10) # hidden hidden wt\n",
    "Why=np.random.randn(1,10) # hidden to output wt"
   ]
  },
  {
   "cell_type": "code",
   "execution_count": 6,
   "id": "8666e0cb-7712-4207-8399-452219e195ad",
   "metadata": {},
   "outputs": [],
   "source": [
    "bh=np.zeros((10,1)) #hidden bias\n",
    "by=np.zeros((1,1)) #output bias"
   ]
  },
  {
   "cell_type": "code",
   "execution_count": 7,
   "id": "682b15c0-6fd2-40a4-92aa-418a6fd4cca7",
   "metadata": {},
   "outputs": [],
   "source": [
    "#intital hidden state\n",
    "h=np.zeros((10,1))"
   ]
  },
  {
   "cell_type": "code",
   "execution_count": 13,
   "id": "72537446-916b-453b-ba8a-b7d48c935a07",
   "metadata": {},
   "outputs": [],
   "source": [
    "#x=curr input,h=previous hidden state\n",
    "def rnn_step(x,h):\n",
    "    h=sigmoid(np.dot(Wxh,x)+np.dot(Whh,h)+bh)\n",
    "    y=np.dot(Why,h)+by\n",
    "    return h,y"
   ]
  },
  {
   "cell_type": "code",
   "execution_count": 17,
   "id": "b0baffae-4471-4850-afec-b1bf2821b444",
   "metadata": {},
   "outputs": [],
   "source": [
    "x=[np.random.randn(5,1) for _ in range(8)]"
   ]
  },
  {
   "cell_type": "code",
   "execution_count": 18,
   "id": "e7d93453-f8ea-4551-a1af-b84b17dc7ec5",
   "metadata": {},
   "outputs": [
    {
     "name": "stdout",
     "output_type": "stream",
     "text": [
      "Time step 0,output: [[-1.76956403]]\n",
      "Time step 1,output: [[-1.54836042]]\n",
      "Time step 2,output: [[-0.75100396]]\n",
      "Time step 3,output: [[-2.27924911]]\n",
      "Time step 4,output: [[-0.34098216]]\n",
      "Time step 5,output: [[-1.66611663]]\n",
      "Time step 6,output: [[-1.91692383]]\n",
      "Time step 7,output: [[-1.74236621]]\n"
     ]
    }
   ],
   "source": [
    "for t in range(len(x)):\n",
    "    h,y=rnn_step(x[t],h)\n",
    "    print(f\"Time step {t},output: {y}\")    "
   ]
  },
  {
   "cell_type": "code",
   "execution_count": 20,
   "id": "a245418d-91ff-4dff-983c-1ca874636eae",
   "metadata": {},
   "outputs": [],
   "source": [
    "#A Recurrent Neural Network (RNN) is a type of neural network architecture designed to process sequential data or time series data.\n",
    "#sigmoid: This function squashes the input values to a range between 0 and 1.\n",
    "#A list containing 8 input arrays, each with shape (5, 1), representing the input sequence of 6 time steps with 5 features per step.\n",
    "# np.dot=preform product of 2 arrays\n",
    "#np.random.randn= function is commonly used for initializing weights in neural networks or creating random datasets"
   ]
  }
 ],
 "metadata": {
  "kernelspec": {
   "display_name": "Python 3 (ipykernel)",
   "language": "python",
   "name": "python3"
  },
  "language_info": {
   "codemirror_mode": {
    "name": "ipython",
    "version": 3
   },
   "file_extension": ".py",
   "mimetype": "text/x-python",
   "name": "python",
   "nbconvert_exporter": "python",
   "pygments_lexer": "ipython3",
   "version": "3.11.7"
  }
 },
 "nbformat": 4,
 "nbformat_minor": 5
}
