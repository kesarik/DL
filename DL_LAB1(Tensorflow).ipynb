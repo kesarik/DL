{
 "cells": [
  {
   "cell_type": "code",
   "execution_count": 35,
   "id": "87f72a9e-41b6-4cc0-893a-07a7a356e217",
   "metadata": {},
   "outputs": [],
   "source": [
    "#tensorflow is used to build and train the model and pytorch is used to work with neural n/w and it is similar to numpy array,allow matehmatical operations.\n",
    "import numpy as np\n",
    "import pandas as pd\n",
    "import tensorflow as tf"
   ]
  },
  {
   "cell_type": "code",
   "execution_count": 36,
   "id": "304b8da1-d224-493c-a7a7-cafcbccdd701",
   "metadata": {},
   "outputs": [
    {
     "data": {
      "text/html": [
       "<div>\n",
       "<style scoped>\n",
       "    .dataframe tbody tr th:only-of-type {\n",
       "        vertical-align: middle;\n",
       "    }\n",
       "\n",
       "    .dataframe tbody tr th {\n",
       "        vertical-align: top;\n",
       "    }\n",
       "\n",
       "    .dataframe thead th {\n",
       "        text-align: right;\n",
       "    }\n",
       "</style>\n",
       "<table border=\"1\" class=\"dataframe\">\n",
       "  <thead>\n",
       "    <tr style=\"text-align: right;\">\n",
       "      <th></th>\n",
       "      <th>Pregnancies</th>\n",
       "      <th>Glucose</th>\n",
       "      <th>BloodPressure</th>\n",
       "      <th>SkinThickness</th>\n",
       "      <th>Insulin</th>\n",
       "      <th>BMI</th>\n",
       "      <th>DiabetesPedigreeFunction</th>\n",
       "      <th>Age</th>\n",
       "      <th>Outcome</th>\n",
       "    </tr>\n",
       "  </thead>\n",
       "  <tbody>\n",
       "    <tr>\n",
       "      <th>0</th>\n",
       "      <td>6</td>\n",
       "      <td>148</td>\n",
       "      <td>72</td>\n",
       "      <td>35</td>\n",
       "      <td>0</td>\n",
       "      <td>33.6</td>\n",
       "      <td>0.627</td>\n",
       "      <td>50</td>\n",
       "      <td>1</td>\n",
       "    </tr>\n",
       "    <tr>\n",
       "      <th>1</th>\n",
       "      <td>1</td>\n",
       "      <td>85</td>\n",
       "      <td>66</td>\n",
       "      <td>29</td>\n",
       "      <td>0</td>\n",
       "      <td>26.6</td>\n",
       "      <td>0.351</td>\n",
       "      <td>31</td>\n",
       "      <td>0</td>\n",
       "    </tr>\n",
       "    <tr>\n",
       "      <th>2</th>\n",
       "      <td>8</td>\n",
       "      <td>183</td>\n",
       "      <td>64</td>\n",
       "      <td>0</td>\n",
       "      <td>0</td>\n",
       "      <td>23.3</td>\n",
       "      <td>0.672</td>\n",
       "      <td>32</td>\n",
       "      <td>1</td>\n",
       "    </tr>\n",
       "    <tr>\n",
       "      <th>3</th>\n",
       "      <td>1</td>\n",
       "      <td>89</td>\n",
       "      <td>66</td>\n",
       "      <td>23</td>\n",
       "      <td>94</td>\n",
       "      <td>28.1</td>\n",
       "      <td>0.167</td>\n",
       "      <td>21</td>\n",
       "      <td>0</td>\n",
       "    </tr>\n",
       "    <tr>\n",
       "      <th>4</th>\n",
       "      <td>0</td>\n",
       "      <td>137</td>\n",
       "      <td>40</td>\n",
       "      <td>35</td>\n",
       "      <td>168</td>\n",
       "      <td>43.1</td>\n",
       "      <td>2.288</td>\n",
       "      <td>33</td>\n",
       "      <td>1</td>\n",
       "    </tr>\n",
       "  </tbody>\n",
       "</table>\n",
       "</div>"
      ],
      "text/plain": [
       "   Pregnancies  Glucose  BloodPressure  SkinThickness  Insulin   BMI  \\\n",
       "0            6      148             72             35        0  33.6   \n",
       "1            1       85             66             29        0  26.6   \n",
       "2            8      183             64              0        0  23.3   \n",
       "3            1       89             66             23       94  28.1   \n",
       "4            0      137             40             35      168  43.1   \n",
       "\n",
       "   DiabetesPedigreeFunction  Age  Outcome  \n",
       "0                     0.627   50        1  \n",
       "1                     0.351   31        0  \n",
       "2                     0.672   32        1  \n",
       "3                     0.167   21        0  \n",
       "4                     2.288   33        1  "
      ]
     },
     "execution_count": 36,
     "metadata": {},
     "output_type": "execute_result"
    }
   ],
   "source": [
    "dataset=pd.read_csv('diabetes.csv')\n",
    "dataset.head()"
   ]
  },
  {
   "cell_type": "code",
   "execution_count": 37,
   "id": "a75d913a-b7f4-4d86-98bf-cdcc8b9919fd",
   "metadata": {},
   "outputs": [],
   "source": [
    "x=dataset.iloc[:,0:8]\n",
    "y=dataset.iloc[:, 8]"
   ]
  },
  {
   "cell_type": "code",
   "execution_count": 38,
   "id": "a05923ad-ced1-42e1-a080-a84aad640d50",
   "metadata": {},
   "outputs": [
    {
     "name": "stdout",
     "output_type": "stream",
     "text": [
      "<class 'pandas.core.frame.DataFrame'>\n",
      "<class 'pandas.core.series.Series'>\n"
     ]
    }
   ],
   "source": [
    "print(type(x))\n",
    "print(type(y))"
   ]
  },
  {
   "cell_type": "code",
   "execution_count": 39,
   "id": "62cf3955-c0e5-4fd4-b4aa-be36e60777e8",
   "metadata": {},
   "outputs": [
    {
     "name": "stderr",
     "output_type": "stream",
     "text": [
      "C:\\Users\\Nanda Kisore Biswas\\anaconda3\\Lib\\site-packages\\keras\\src\\layers\\core\\dense.py:87: UserWarning: Do not pass an `input_shape`/`input_dim` argument to a layer. When using Sequential models, prefer using an `Input(shape)` object as the first layer in the model instead.\n",
      "  super().__init__(activity_regularizer=activity_regularizer, **kwargs)\n"
     ]
    }
   ],
   "source": [
    "#sequential model  build a neural network layer by layer in a linear stack\n",
    "# Relu=prevents vanishing gradient problems in hidden layers,introduce non-linearity.\n",
    "#sigmoid=Maps outputs to a range between 0 and 1, making it ideal for binary classification output.\n",
    "from tensorflow.keras.models import Sequential\n",
    "from tensorflow.keras.layers import Dense\n",
    "model=Sequential()\n",
    "model.add(Dense(12,input_shape=(8,),activation='relu'))\n",
    "model.add(Dense(8,activation='relu'))\n",
    "model.add(Dense(1,activation='sigmoid'))"
   ]
  },
  {
   "cell_type": "code",
   "execution_count": 40,
   "id": "49324bcc-5862-468d-93fa-1c7759ba65a1",
   "metadata": {},
   "outputs": [],
   "source": [
    "model.compile(\n",
    "    loss='binary_crossentropy',\n",
    "    optimizer='adam',   #adaptive optimizer, balances learning rate for effective training.\n",
    "    metrics=['accuracy']\n",
    ")"
   ]
  },
  {
   "cell_type": "code",
   "execution_count": 41,
   "id": "c417af33-42b4-4f47-bda5-4d70eb089d25",
   "metadata": {},
   "outputs": [
    {
     "name": "stdout",
     "output_type": "stream",
     "text": [
      "Epoch 1/10\n",
      "\u001b[1m77/77\u001b[0m \u001b[32m━━━━━━━━━━━━━━━━━━━━\u001b[0m\u001b[37m\u001b[0m \u001b[1m5s\u001b[0m 11ms/step - accuracy: 0.6332 - loss: 11.0785\n",
      "Epoch 2/10\n",
      "\u001b[1m77/77\u001b[0m \u001b[32m━━━━━━━━━━━━━━━━━━━━\u001b[0m\u001b[37m\u001b[0m \u001b[1m1s\u001b[0m 7ms/step - accuracy: 0.5890 - loss: 1.6573\n",
      "Epoch 3/10\n",
      "\u001b[1m77/77\u001b[0m \u001b[32m━━━━━━━━━━━━━━━━━━━━\u001b[0m\u001b[37m\u001b[0m \u001b[1m1s\u001b[0m 7ms/step - accuracy: 0.6117 - loss: 0.8288\n",
      "Epoch 4/10\n",
      "\u001b[1m77/77\u001b[0m \u001b[32m━━━━━━━━━━━━━━━━━━━━\u001b[0m\u001b[37m\u001b[0m \u001b[1m0s\u001b[0m 5ms/step - accuracy: 0.6710 - loss: 0.7034\n",
      "Epoch 5/10\n",
      "\u001b[1m77/77\u001b[0m \u001b[32m━━━━━━━━━━━━━━━━━━━━\u001b[0m\u001b[37m\u001b[0m \u001b[1m0s\u001b[0m 3ms/step - accuracy: 0.6643 - loss: 0.7086\n",
      "Epoch 6/10\n",
      "\u001b[1m77/77\u001b[0m \u001b[32m━━━━━━━━━━━━━━━━━━━━\u001b[0m\u001b[37m\u001b[0m \u001b[1m0s\u001b[0m 4ms/step - accuracy: 0.6867 - loss: 0.6902\n",
      "Epoch 7/10\n",
      "\u001b[1m77/77\u001b[0m \u001b[32m━━━━━━━━━━━━━━━━━━━━\u001b[0m\u001b[37m\u001b[0m \u001b[1m0s\u001b[0m 4ms/step - accuracy: 0.6868 - loss: 0.6483\n",
      "Epoch 8/10\n",
      "\u001b[1m77/77\u001b[0m \u001b[32m━━━━━━━━━━━━━━━━━━━━\u001b[0m\u001b[37m\u001b[0m \u001b[1m1s\u001b[0m 5ms/step - accuracy: 0.6747 - loss: 0.6507\n",
      "Epoch 9/10\n",
      "\u001b[1m77/77\u001b[0m \u001b[32m━━━━━━━━━━━━━━━━━━━━\u001b[0m\u001b[37m\u001b[0m \u001b[1m0s\u001b[0m 4ms/step - accuracy: 0.7182 - loss: 0.6013\n",
      "Epoch 10/10\n",
      "\u001b[1m77/77\u001b[0m \u001b[32m━━━━━━━━━━━━━━━━━━━━\u001b[0m\u001b[37m\u001b[0m \u001b[1m0s\u001b[0m 4ms/step - accuracy: 0.7268 - loss: 0.5997\n"
     ]
    },
    {
     "data": {
      "text/plain": [
       "<keras.src.callbacks.history.History at 0x23fb0819190>"
      ]
     },
     "execution_count": 41,
     "metadata": {},
     "output_type": "execute_result"
    }
   ],
   "source": [
    "model.fit(x,y,epochs=10,batch_size=10)"
   ]
  },
  {
   "cell_type": "code",
   "execution_count": 42,
   "id": "a7bf1e54-6531-48c7-94da-1696627d16c2",
   "metadata": {},
   "outputs": [
    {
     "name": "stdout",
     "output_type": "stream",
     "text": [
      "\u001b[1m24/24\u001b[0m \u001b[32m━━━━━━━━━━━━━━━━━━━━\u001b[0m\u001b[37m\u001b[0m \u001b[1m1s\u001b[0m 6ms/step - accuracy: 0.6870 - loss: 0.6451\n",
      "Model accuracy is: 0.6159204840660095\n",
      "Model Loss is: 0.7005208134651184\n"
     ]
    }
   ],
   "source": [
    "accuracy,loss=model.evaluate(x,y)\n",
    "print(\"Model accuracy is:\",accuracy)\n",
    "print(\"Model Loss is:\",loss)"
   ]
  },
  {
   "cell_type": "code",
   "execution_count": 43,
   "id": "0c8d549a-4474-4850-9f2e-04629f6c8def",
   "metadata": {},
   "outputs": [
    {
     "name": "stdout",
     "output_type": "stream",
     "text": [
      "\u001b[1m24/24\u001b[0m \u001b[32m━━━━━━━━━━━━━━━━━━━━\u001b[0m\u001b[37m\u001b[0m \u001b[1m0s\u001b[0m 4ms/step\n",
      "Actual Values: 0    1\n",
      "1    0\n",
      "2    1\n",
      "3    0\n",
      "4    1\n",
      "5    0\n",
      "6    1\n",
      "7    0\n",
      "8    1\n",
      "9    1\n",
      "Name: Outcome, dtype: int64\n",
      "predicted probability is: [[0.45524052]\n",
      " [0.30686778]\n",
      " [0.8616126 ]\n",
      " [0.18336521]\n",
      " [0.97663176]\n",
      " [0.39395988]\n",
      " [0.3242988 ]\n",
      " [0.6734421 ]\n",
      " [0.82061434]\n",
      " [0.24598043]]\n"
     ]
    }
   ],
   "source": [
    "predicted_probablities=model.predict(x)\n",
    "print(\"Actual Values:\",y[:10])\n",
    "print(\"predicted probability is:\",predicted_probablities[:10])"
   ]
  },
  {
   "cell_type": "code",
   "execution_count": 1,
   "id": "50d69e41-abff-4ea6-9039-dcc857679d7a",
   "metadata": {},
   "outputs": [
    {
     "name": "stdout",
     "output_type": "stream",
     "text": [
      "tf.Tensor(35, shape=(), dtype=int32)\n",
      "[0.9140617  0.54105914 0.48915523 0.09421007 0.6714686  0.3319139\n",
      " 0.8113332  0.08224323 0.5942847  0.38943693 0.11713833 0.66447383\n",
      " 0.31373113 0.26085824 0.8989744  0.04476475 0.34101728 0.4075781\n",
      " 0.49587548 0.7073562  0.4440508  0.39586812 0.19544813 0.44413704\n",
      " 0.31806555 0.6130848  0.39713854 0.53412956 0.47175103 0.20460495\n",
      " 0.66584516 0.5461266  0.74804056 0.6814505  0.65709865 0.14948764\n",
      " 0.19263417 0.69047123 0.74496657 0.48343596 0.8644466  0.6296441\n",
      " 0.58309865 0.0770047  0.5003622  0.89368474 0.6458624  0.5952607\n",
      " 0.35719892 0.80608976 0.7637592  0.523308   0.13849668 0.05601364\n",
      " 0.3231499  0.6196159  0.9574125  0.11772186 0.391421   0.21048968\n",
      " 0.30270895 0.37295473 0.1401799  0.00320332 0.21070866 0.4929036\n",
      " 0.23553048 0.38048145 0.38337663 0.44762558 0.6648815  0.3014476\n",
      " 0.49392036 0.59517425 0.34169808 0.49850744 0.50905883 0.32352227\n",
      " 0.14000587 0.604577   0.35216612 0.40642047 0.19564605 0.30472156\n",
      " 0.4067894  0.83007866 0.68261737 0.28150412 0.5952277  0.373745\n",
      " 0.20549227 0.7145489  0.79047847 0.14215226 0.4289613  0.22383654\n",
      " 0.2267187  0.6561819  0.07083342 0.03317663]\n",
      "Step 0: W = [1.120099], b = [-0.00099999], Loss = 0.08948057144880295\n",
      "Step 500: W = [0.81904346], b = [-0.0871596], Loss = 0.021318597719073296\n",
      "Step 1000: W = [0.58233804], b = [0.02324499], Loss = 0.008128518238663673\n",
      "Step 1500: W = [0.39394915], b = [0.11047927], Loss = 0.0020923223346471786\n",
      "Step 2000: W = [0.27743623], b = [0.16427617], Loss = 0.00033383897971361876\n",
      "Step 2500: W = [0.22274147], b = [0.18950975], Loss = 2.883190245484002e-05\n",
      "Step 3000: W = [0.20450084], b = [0.19792387], Loss = 1.1313488812447758e-06\n",
      "Step 3500: W = [0.20053545], b = [0.19975302], Loss = 1.604817612133047e-08\n",
      "Step 4000: W = [0.20003282], b = [0.1999849], Loss = 6.042521344395979e-11\n",
      "Step 4500: W = [0.200001], b = [0.19999953], Loss = 5.6081807492218416e-14\n"
     ]
    }
   ],
   "source": [
    "import tensorflow as tf\n",
    "import numpy as np\n",
    "\n",
    "# Define constants\n",
    "a = tf.constant(15)\n",
    "b = tf.constant(20)\n",
    "print(a + b)\n",
    "\n",
    "# Input data\n",
    "x = np.random.rand(100).astype(np.float32)\n",
    "print(x)\n",
    "\n",
    "# Observed output (y) based on some linear relation to x\n",
    "y = x * 0.2 + 0.2\n",
    "\n",
    "# Initialize variables for weight and bias\n",
    "W = tf.Variable(tf.random.normal([1]))\n",
    "b = tf.Variable(tf.zeros([1]))\n",
    "\n",
    "# Define Mean Squared Error (MSE) loss function\n",
    "def mse_loss():\n",
    "    y_pred = W * x + b\n",
    "    loss = tf.reduce_mean(tf.square(y_pred - y))\n",
    "    return loss\n",
    "\n",
    "# Optimizer\n",
    "optimizer = tf.keras.optimizers.Adam()\n",
    "\n",
    "# Training loop with tf.GradientTape\n",
    "for step in range(5000):\n",
    "    with tf.GradientTape() as tape:\n",
    "        loss_value = mse_loss()\n",
    "    gradients = tape.gradient(loss_value, [W, b])\n",
    "    optimizer.apply_gradients(zip(gradients, [W, b]))\n",
    "\n",
    "    # Print intermediate results every 500 steps\n",
    "    if step % 500 == 0:\n",
    "        print(f\"Step {step}: W = {W.numpy()}, b = {b.numpy()}, Loss = {loss_value.numpy()}\")\n"
   ]
  },
  {
   "cell_type": "code",
   "execution_count": null,
   "id": "20c712c6-bcf3-4da8-bcc7-62aaa09cf909",
   "metadata": {},
   "outputs": [],
   "source": [
    "import tensorflow as tf\n",
    "import numpy as np\n",
    "a=tf.constant(1)\n",
    "b=tf.constant(2)\n",
    "print(\"Addition is:\",a+b)\n",
    "x=np.random.rand(10).astype(np.float32)\n",
    "print(\"Random Integer:\",x)\n",
    "y=x*1+5\n",
    "print(\"Observed Data:\",y)\n",
    "\n",
    "def MSE_Loss():\n",
    "    y_pred=w*x+b\n",
    "    loss=tf.reduce_mean(tf.square(y-y_pred))\n",
    "    return loss\n",
    "print(\"Loss is:\",MSE_Loss())\n",
    "\n",
    "tensor=tf.constant([[1,2,3],[4,5,6]])\n",
    "reshaped_tensor=tf.reshape(tensor,[3,2])\n",
    "print(\"Reshaped Tensor:\",reshaped_tensor)\n",
    "\n",
    "a=tf.constant([[1,2],[3,4]])\n",
    "b=tf.constant([[1,2],[3,4]])\n",
    "matrix_mul=tf.matmul(a,b)\n",
    "print(\"Matrix Multiplication:\",matrix_mul)"
   ]
  }
 ],
 "metadata": {
  "kernelspec": {
   "display_name": "Python 3 (ipykernel)",
   "language": "python",
   "name": "python3"
  },
  "language_info": {
   "codemirror_mode": {
    "name": "ipython",
    "version": 3
   },
   "file_extension": ".py",
   "mimetype": "text/x-python",
   "name": "python",
   "nbconvert_exporter": "python",
   "pygments_lexer": "ipython3",
   "version": "3.11.7"
  }
 },
 "nbformat": 4,
 "nbformat_minor": 5
}
